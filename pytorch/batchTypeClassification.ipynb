{
 "cells": [
  {
   "cell_type": "code",
   "execution_count": 1,
   "metadata": {},
   "outputs": [],
   "source": [
    "import torch\n",
    "import torch.nn as nn\n",
    "import torch.nn.functional as F"
   ]
  },
  {
   "cell_type": "code",
   "execution_count": 9,
   "metadata": {},
   "outputs": [],
   "source": [
    "EPOCH = 200\n",
    "LR = 0.1\n",
    "BATCH_SIZE = 100"
   ]
  },
  {
   "cell_type": "code",
   "execution_count": 4,
   "metadata": {},
   "outputs": [],
   "source": [
    "class Classification(nn.Module):\n",
    "    def __init__(self):\n",
    "        super(Classification, self).__init__()\n",
    "        self.linear1 = nn.Linear(2,10)\n",
    "        self.linear2 = nn.Linear(10,6, bias=True)\n",
    "        self.linear3 = nn.Linear(6,2)\n",
    "    def forward(self, x):\n",
    "        x = F.relu(self.linear1(x))\n",
    "        x = F.relu(self.linear2(x))\n",
    "        x = F.softmax(self.linear3(x))\n",
    "        return x"
   ]
  },
  {
   "cell_type": "code",
   "execution_count": 5,
   "metadata": {},
   "outputs": [],
   "source": [
    "if torch.cuda.is_available():\n",
    "    model = Classification().cuda()\n",
    "else:\n",
    "    model = Classification()\n",
    "loss_func = nn.CrossEntropyLoss()\n",
    "optimizer = torch.optim.SGD(model.parameters(), lr = LR)"
   ]
  },
  {
   "cell_type": "code",
   "execution_count": 6,
   "metadata": {},
   "outputs": [],
   "source": [
    "# preparing the dataset\n",
    "x = torch.unsqueeze((torch.rand(1000)-0.5)*10,dim=0).reshape(-1,2)\n",
    "y = torch.LongTensor([1 if _x[0]*_x[1]>=0 else 0 for _x in x])"
   ]
  },
  {
   "cell_type": "code",
   "execution_count": 34,
   "metadata": {},
   "outputs": [],
   "source": [
    "from torch.utils.data import TensorDataset, DataLoader\n",
    "xy_dataset = TensorDataset(x,y)\n",
    "data_loader = DataLoader(dataset=xy_dataset,\n",
    "                         batch_size=BATCH_SIZE,\n",
    "                         shuffle=True,\n",
    "                         num_workers=2)"
   ]
  },
  {
   "cell_type": "code",
   "execution_count": 35,
   "metadata": {},
   "outputs": [],
   "source": [
    "s = int(len(data_loader)*0.8)\n",
    "e = len(data_loader)-s\n",
    "train_dataset, test_dataset = torch.utils.data.random_split(data_loader,[s,e])"
   ]
  },
  {
   "cell_type": "code",
   "execution_count": 12,
   "metadata": {},
   "outputs": [
    {
     "name": "stderr",
     "output_type": "stream",
     "text": [
      "/usr/local/anaconda3/lib/python3.7/site-packages/ipykernel_launcher.py:10: UserWarning: Implicit dimension choice for softmax has been deprecated. Change the call to include dim=X as an argument.\n",
      "  # Remove the CWD from sys.path while we load stuff.\n"
     ]
    },
    {
     "name": "stdout",
     "output_type": "stream",
     "text": [
      "Epoch[100/200],loss:0.339697\n",
      "Epoch[200/200],loss:0.328606\n"
     ]
    }
   ],
   "source": [
    "for epoch in range(EPOCH):\n",
    "    for i,batch in enumerate(train_dataset.dataset):\n",
    "        x,y = batch\n",
    "        if torch.cuda.is_available():\n",
    "            x = torch.autograd.Variable(x).cuda()\n",
    "            y = torch.autograd.Variable(y).cuda()\n",
    "        else:\n",
    "            x = torch.autograd.Variable(x)\n",
    "            y = torch.autograd.Variable(y)\n",
    "        out = model(x)\n",
    "    #     print(out.shape,y.shape)\n",
    "        loss = loss_func(out,y)\n",
    "        optimizer.zero_grad()\n",
    "        loss.backward()\n",
    "        optimizer.step()\n",
    "    if (epoch+1)%100==0:\n",
    "        print('Epoch[{}/{}],loss:{:.6f}'.format(epoch+1,EPOCH,loss.data.item()))"
   ]
  },
  {
   "cell_type": "code",
   "execution_count": 19,
   "metadata": {},
   "outputs": [],
   "source": [
    "from sklearn.metrics import accuracy_score"
   ]
  },
  {
   "cell_type": "code",
   "execution_count": 31,
   "metadata": {},
   "outputs": [
    {
     "name": "stdout",
     "output_type": "stream",
     "text": [
      "0.996\n"
     ]
    },
    {
     "name": "stderr",
     "output_type": "stream",
     "text": [
      "/usr/local/anaconda3/lib/python3.7/site-packages/ipykernel_launcher.py:10: UserWarning: Implicit dimension choice for softmax has been deprecated. Change the call to include dim=X as an argument.\n",
      "  # Remove the CWD from sys.path while we load stuff.\n"
     ]
    }
   ],
   "source": [
    "model.eval()\n",
    "acc = 0.0\n",
    "for i,batch in enumerate(test_dataset.dataset):\n",
    "    x,y=batch\n",
    "    if  torch.cuda.is_available():\n",
    "        x = x.cuda()\n",
    "    predict = model(x)\n",
    "    predict = torch.max(predict,1)[1]\n",
    "    predict = predict.cpu().data.numpy()\n",
    "    acc += accuracy_score(y.cpu().numpy(),predict)\n",
    "print('{:.3f}'.format(acc/(i+1)))"
   ]
  }
 ],
 "metadata": {
  "kernelspec": {
   "display_name": "Python 3",
   "language": "python",
   "name": "python3"
  },
  "language_info": {
   "codemirror_mode": {
    "name": "ipython",
    "version": 3
   },
   "file_extension": ".py",
   "mimetype": "text/x-python",
   "name": "python",
   "nbconvert_exporter": "python",
   "pygments_lexer": "ipython3",
   "version": "3.7.3"
  }
 },
 "nbformat": 4,
 "nbformat_minor": 2
}
